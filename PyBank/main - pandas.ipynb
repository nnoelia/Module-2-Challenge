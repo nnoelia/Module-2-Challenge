{
 "cells": [
  {
   "cell_type": "code",
   "execution_count": null,
   "id": "f875b998-3246-4924-8479-2875e37c2d9b",
   "metadata": {},
   "outputs": [],
   "source": [
    "# import libraries\n",
    "import pandas as pd\n",
    "\n",
    "# set the file path\n",
    "filePath = \"\"C:\\Users\\nnroc\\OneDrive\\Documents\\Fintech Course\\Challenges\\Module 2 Challenge\\PyBank\\Resources\\budget_data.csv\"\"\n",
    "\n",
    "# read the scv file using pands\n",
    "DataFrame = pd.read_csv(filePath)"
   ]
  },
  {
   "cell_type": "code",
   "execution_count": null,
   "id": "a162692e-7b00-4c8d-8eba-39b076b32b4f",
   "metadata": {},
   "outputs": [],
   "source": [
    "# The total number of months included in the dataset\n",
    "number_of_months = DataFrame.shape[0]\n",
    "print(f\"The total number of months included in the dataset : {number_of_months} \")"
   ]
  },
  {
   "cell_type": "code",
   "execution_count": null,
   "id": "e861fa88-bab9-4225-9303-7e47960ad913",
   "metadata": {},
   "outputs": [],
   "source": [
    "# The net total amount of Profit/Losses over the entire period\n",
    "net_total = DataFrame[\"Profit/Losses\"].sum()\n",
    "print(f\"The net total amount of Profit/Losses over the entire period : ${net_total} \")"
   ]
  },
  {
   "cell_type": "code",
   "execution_count": null,
   "id": "313dfa70-6939-44e9-9b29-4a308513b74d",
   "metadata": {},
   "outputs": [],
   "source": [
    "# Calculate change values from 'Profit/Losses' \n",
    "DataFrame[\"difference\"] = DataFrame[\"Profit/Losses\"].diff(1)"
   ]
  },
  {
   "cell_type": "code",
   "execution_count": null,
   "id": "244d41fe-59bd-48a5-87d0-bb717bcc8aae",
   "metadata": {},
   "outputs": [],
   "source": [
    "# The average of the changes in Profit/Losses over the entire period \n",
    "avergae_changes = DataFrame[\"difference\"].mean()\n",
    "print(f\"The average of the changes in Profit/Losses over the entire period : ${'{:.2f}'.format(avergae_changes)}\")"
   ]
  },
  {
   "cell_type": "code",
   "execution_count": null,
   "id": "f60a8d90-a014-43f9-986d-5808efd2d120",
   "metadata": {},
   "outputs": [],
   "source": [
    "# The greatest increase in profits (date and amount) over the entire period\n",
    "greatest_increase_index = DataFrame[\"difference\"].idxmax() # get the index of the max difference\n",
    "\n",
    "greatest_increase_amount = DataFrame.difference[greatest_increase_index] # get the max difference\n",
    "greatest_increase_date = DataFrame.Date[greatest_increase_index] # get the date of the max difference\n",
    "print(f\"# The greatest increase in profits (date and amount) over the entire period : ${greatest_increase_amount} on {greatest_increase_date}\")"
   ]
  },
  {
   "cell_type": "code",
   "execution_count": null,
   "id": "16e10f5f-ce90-403b-97d0-83fafe0b2bb7",
   "metadata": {},
   "outputs": [],
   "source": [
    "# The greatest decrease in losses (date and amount) over the entire period\n",
    "greatest_decrease_index = DataFrame[\"difference\"].idxmin() # get the index of the min difference\n",
    "\n",
    "greatest_decrease_amount = DataFrame.difference[greatest_decrease_index] # get the min difference\n",
    "greatest_decrease_date = DataFrame.Date[greatest_decrease_index] # get the date of the min difference\n",
    "print(f\"# The greatest decrease in profits (date and amount) over the entire period : ${greatest_decrease_amount} on {greatest_decrease_date}\")"
   ]
  },
  {
   "cell_type": "code",
   "execution_count": null,
   "id": "1d90eb17-2323-4264-ae4e-76fa70b50b27",
   "metadata": {},
   "outputs": [],
   "source": [
    "# Write the data to a textle\n",
    "with open('result.txt', 'w') as f:\n",
    "    f.write('Result\\n\\r')\n",
    "\n",
    "    # write the data\n",
    "    f.write(f\"The total number of months included in the dataset : {number_of_months}\\n\")\n",
    "    f.write(f\"The net total amount of Profit/Losses over the entire period : ${net_total}\\n\")\n",
    "    f.write(f\"The average of the changes in Profit/Losses over the entire period : ${'{:.2f}'.format(avergae_changes)}\\n\")\n",
    "    f.write(f\"The greatest increase in profits (date and amount) over the entire period : ${greatest_increase_amount} on {greatest_increase_date}\\n\")\n",
    "    f.write(f\"The greatest decrease in profits (date and amount) over the entire period : ${greatest_decrease_amount} on {greatest_decrease_date}\\n\")"
   ]
  }
 ],
 "metadata": {
  "kernelspec": {
   "display_name": "Python 3 (ipykernel)",
   "language": "python",
   "name": "python3"
  },
  "language_info": {
   "codemirror_mode": {
    "name": "ipython",
    "version": 3
   },
   "file_extension": ".py",
   "mimetype": "text/x-python",
   "name": "python",
   "nbconvert_exporter": "python",
   "pygments_lexer": "ipython3",
   "version": "3.7.15"
  }
 },
 "nbformat": 4,
 "nbformat_minor": 5
}

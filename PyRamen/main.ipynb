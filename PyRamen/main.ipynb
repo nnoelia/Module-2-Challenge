{
 "cells": [
  {
   "cell_type": "code",
   "execution_count": 1,
   "id": "0213ea7d-ac01-4950-8d30-908ab5af0ab3",
   "metadata": {},
   "outputs": [],
   "source": [
    "#Import libraries\n",
    "import csv\n",
    "from pathlib import Path"
   ]
  },
  {
   "cell_type": "code",
   "execution_count": 2,
   "id": "44b6a149-5b09-4922-9baa-5115b88e5376",
   "metadata": {},
   "outputs": [],
   "source": [
    "# Set file paths for menu_data.csv and sales_data.csv\n",
    "menu_filepath = Path(\"C:\\Users\\nnroc\\OneDrive\\Documents\\Fintech Course\\Challenges\\Module 2 Challenge\\PyRamen\\Resources\\menu_data.csv\")\n",
    "sales_filepath = Path(\"C:\\Users\\nnroc\\OneDrive\\Documents\\Fintech Course\\Challenges\\Module 2 Challenge\\PyRamen\\Resources\\sales_data.csv\")"
   ]
  },
  {
   "cell_type": "code",
   "execution_count": 3,
   "id": "3f566f55-46cc-4bc8-baa1-df1a7795bd02",
   "metadata": {},
   "outputs": [],
   "source": [
    "#Initialize list objects to hold our menu and sales data\n",
    "menu = []\n",
    "sales = []"
   ]
  },
  {
   "cell_type": "code",
   "execution_count": 4,
   "id": "fa740d4b-a29f-47ae-926d-b748fb220440",
   "metadata": {},
   "outputs": [],
   "source": [
    "#Read in the menu data into the menu list object\n",
    "\n",
    "# Open the output path as a file and pass into the 'csv.writer()' function\n",
    "# Set the delimiter/separater as a ','\n",
    "with open(menu_filepath, \"r\") as menu_csvfile:\n",
    "    menu_csvreader = csv.reader(menu_csvfile, delimiter=\",\")\n",
    "    \n",
    "    # Read the header row first\n",
    "    menu_csv_header = next(menu_csvreader)\n",
    "    \n",
    "    # Read each row of data after the header\n",
    "    for row in menu_csvreader:        \n",
    "        \n",
    "        #Append the row to the menu list\n",
    "        menu.append(row)"
   ]
  },
  {
   "cell_type": "code",
   "execution_count": 5,
   "id": "da7b5438-aa10-4f7d-b7e0-485e3fe8b12d",
   "metadata": {},
   "outputs": [],
   "source": [
    "#Read in the sales data into the sales list object\n",
    "\n",
    "# Open the output path as a file and pass into the 'csv.writer()' function\n",
    "# Set the delimiter/separater as a ','\n",
    "with open(sales_filepath, \"r\") as sales_csvfile:\n",
    "    sales_csvreader = csv.reader(sales_csvfile, delimiter=\",\")\n",
    "    \n",
    "    # Read the header row first\n",
    "    sales_csv_header = next(sales_csvreader)\n",
    "    \n",
    "    # Read each row of data after the header\n",
    "    for row in sales_csvreader:        \n",
    "        \n",
    "        #Append the row to the menu list\n",
    "        sales.append(row)"
   ]
  },
  {
   "cell_type": "code",
   "execution_count": 6,
   "id": "0e76c475-70d7-4675-87b0-71118969b492",
   "metadata": {},
   "outputs": [],
   "source": [
    "#Initialize dictionary object to hold our key-value pairs of items and metrics\n",
    "report = {}"
   ]
  },
  {
   "cell_type": "code",
   "execution_count": 7,
   "id": "26128a73-22a9-441a-978b-224ff1bb1d38",
   "metadata": {},
   "outputs": [],
   "source": [
    "#Loop over every row in the sales list object\n",
    "for row_sales in sales:    \n",
    "    #Initialize sales data variables\n",
    "    line_iten_id = row_sales[0]\n",
    "    date = row_sales[1]\n",
    "    credit_card = row_sales [2]\n",
    "    quantity = int(row_sales[3])\n",
    "    sales_item = str(row_sales [4])\n",
    "    \n",
    "    # if the sales_item is already included in the report dictionary then initialize the key-value pairs for the particular sales_item in the report\n",
    "    if sales_item not in report.keys():\n",
    "        report[sales_item]={\n",
    "        \"01-count\": 0,\n",
    "        \"02-revenue\": 0,\n",
    "        \"03-cogs\": 0,\n",
    "        \"04-profit\": 0\n",
    "        }\n",
    "    ##Loop over every record in the menu list object    \n",
    "    for row_menu in menu:\n",
    "        #Initialize menu data variables\n",
    "        menu_item = str(row_menu[0])\n",
    "        category = row_menu[1]\n",
    "        description = row_menu[2]\n",
    "        price = float(row_menu[3])\n",
    "        cost = float(row_menu[4])\n",
    "                    \n",
    "        #For each matching sales item in sales list to menu item in menu list calculate the profit for the quantity in sales\n",
    "        profit = quantity*(price - cost)\n",
    "        \n",
    "        #Cumulatively add the values to the corresponding metrics for each matched menu item and hold in the report dictionary\n",
    "        report[sales_item][\"01-count\"] += quantity\n",
    "        report[sales_item][\"02-revenue\"] += price * quantity\n",
    "        report[sales_item]['03-cogs'] += cost * quantity\n",
    "        report[sales_item]['04-profit'] += profit * quantity\n",
    "#print report dictionary\n",
    "#print(report)\n",
    "#hold the output in a string attribute to print in the output file\n",
    "output = str(report)"
   ]
  },
  {
   "cell_type": "code",
   "execution_count": 10,
   "id": "e2d2fa0b-a7d7-4c83-920c-386c88b7f1b7",
   "metadata": {},
   "outputs": [],
   "source": [
    "# Set output file name\n",
    "output_path = 'output_report.txt'\n",
    "\n",
    "# Open the output path as a file object\n",
    "with open(output_path, 'w') as file:\n",
    "    # Write report dictionary in the output file\n",
    "    file.write(output)"
   ]
  }
 ],
 "metadata": {
  "kernelspec": {
   "display_name": "Python 3 (ipykernel)",
   "language": "python",
   "name": "python3"
  },
  "language_info": {
   "codemirror_mode": {
    "name": "ipython",
    "version": 3
   },
   "file_extension": ".py",
   "mimetype": "text/x-python",
   "name": "python",
   "nbconvert_exporter": "python",
   "pygments_lexer": "ipython3",
   "version": "3.7.13"
  }
 },
 "nbformat": 4,
 "nbformat_minor": 5
}
